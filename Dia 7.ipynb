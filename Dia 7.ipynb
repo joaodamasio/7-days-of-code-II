{
 "cells": [
  {
   "cell_type": "markdown",
   "id": "78e84fbc",
   "metadata": {},
   "source": [
    "# Dia 1"
   ]
  },
  {
   "cell_type": "markdown",
   "id": "a2bd7e61",
   "metadata": {},
   "source": [
    "### importando dados"
   ]
  },
  {
   "cell_type": "code",
   "execution_count": 403,
   "id": "e208f15e",
   "metadata": {},
   "outputs": [],
   "source": [
    "import pandas as pd"
   ]
  },
  {
   "cell_type": "markdown",
   "id": "b8536570",
   "metadata": {},
   "source": [
    "### coletando dados"
   ]
  },
  {
   "cell_type": "code",
   "execution_count": 404,
   "id": "98832326",
   "metadata": {},
   "outputs": [],
   "source": [
    "dados_2010_1 = pd.read_csv('https://raw.githubusercontent.com/FranciscoFoz/7_Days_of_Code_Alura-Python-Pandas/main/Dia_1-Importando_dados/Datasets/dados_emprestimos/emprestimos-20101.csv')\n",
    "dados_2010_2 = pd.read_csv('https://raw.githubusercontent.com/FranciscoFoz/7_Days_of_Code_Alura-Python-Pandas/main/Dia_1-Importando_dados/Datasets/dados_emprestimos/emprestimos-20102.csv')\n",
    "dados_2011_1 = pd.read_csv('https://raw.githubusercontent.com/FranciscoFoz/7_Days_of_Code_Alura-Python-Pandas/main/Dia_1-Importando_dados/Datasets/dados_emprestimos/emprestimos-20111.csv')\n",
    "dados_2011_2 = pd.read_csv('https://raw.githubusercontent.com/FranciscoFoz/7_Days_of_Code_Alura-Python-Pandas/main/Dia_1-Importando_dados/Datasets/dados_emprestimos/emprestimos-20112.csv')\n",
    "dados_2012_1 = pd.read_csv('https://raw.githubusercontent.com/FranciscoFoz/7_Days_of_Code_Alura-Python-Pandas/main/Dia_1-Importando_dados/Datasets/dados_emprestimos/emprestimos-20121.csv')\n",
    "dados_2012_2 = pd.read_csv('https://raw.githubusercontent.com/FranciscoFoz/7_Days_of_Code_Alura-Python-Pandas/main/Dia_1-Importando_dados/Datasets/dados_emprestimos/emprestimos-20122.csv')\n",
    "dados_2013_1 = pd.read_csv('https://raw.githubusercontent.com/FranciscoFoz/7_Days_of_Code_Alura-Python-Pandas/main/Dia_1-Importando_dados/Datasets/dados_emprestimos/emprestimos-20131.csv')\n",
    "dados_2013_2 = pd.read_csv('https://raw.githubusercontent.com/FranciscoFoz/7_Days_of_Code_Alura-Python-Pandas/main/Dia_1-Importando_dados/Datasets/dados_emprestimos/emprestimos-20132.csv')\n",
    "dados_2014_1 = pd.read_csv('https://raw.githubusercontent.com/FranciscoFoz/7_Days_of_Code_Alura-Python-Pandas/main/Dia_1-Importando_dados/Datasets/dados_emprestimos/emprestimos-20141.csv')\n",
    "dados_2014_2 = pd.read_csv('https://raw.githubusercontent.com/FranciscoFoz/7_Days_of_Code_Alura-Python-Pandas/main/Dia_1-Importando_dados/Datasets/dados_emprestimos/emprestimos-20142.csv')\n",
    "dados_2015_1 = pd.read_csv('https://raw.githubusercontent.com/FranciscoFoz/7_Days_of_Code_Alura-Python-Pandas/main/Dia_1-Importando_dados/Datasets/dados_emprestimos/emprestimos-20151.csv')\n",
    "dados_2015_2 = pd.read_csv('https://raw.githubusercontent.com/FranciscoFoz/7_Days_of_Code_Alura-Python-Pandas/main/Dia_1-Importando_dados/Datasets/dados_emprestimos/emprestimos-20152.csv')\n",
    "dados_2016_1 = pd.read_csv('https://raw.githubusercontent.com/FranciscoFoz/7_Days_of_Code_Alura-Python-Pandas/main/Dia_1-Importando_dados/Datasets/dados_emprestimos/emprestimos-20161.csv')\n",
    "dados_2016_2 = pd.read_csv('https://raw.githubusercontent.com/FranciscoFoz/7_Days_of_Code_Alura-Python-Pandas/main/Dia_1-Importando_dados/Datasets/dados_emprestimos/emprestimos-20162.csv')\n",
    "dados_2017_1 = pd.read_csv('https://raw.githubusercontent.com/FranciscoFoz/7_Days_of_Code_Alura-Python-Pandas/main/Dia_1-Importando_dados/Datasets/dados_emprestimos/emprestimos-20171.csv')\n",
    "dados_2017_2 = pd.read_csv('https://raw.githubusercontent.com/FranciscoFoz/7_Days_of_Code_Alura-Python-Pandas/main/Dia_1-Importando_dados/Datasets/dados_emprestimos/emprestimos-20172.csv')\n",
    "dados_2018_1 = pd.read_csv('https://raw.githubusercontent.com/FranciscoFoz/7_Days_of_Code_Alura-Python-Pandas/main/Dia_1-Importando_dados/Datasets/dados_emprestimos/emprestimos-20181.csv')\n",
    "dados_2018_2 = pd.read_csv('https://raw.githubusercontent.com/FranciscoFoz/7_Days_of_Code_Alura-Python-Pandas/main/Dia_1-Importando_dados/Datasets/dados_emprestimos/emprestimos-20182.csv')\n",
    "dados_2019_1 = pd.read_csv('https://raw.githubusercontent.com/FranciscoFoz/7_Days_of_Code_Alura-Python-Pandas/main/Dia_1-Importando_dados/Datasets/dados_emprestimos/emprestimos-20191.csv')\n",
    "dados_2019_2 = pd.read_csv('https://raw.githubusercontent.com/FranciscoFoz/7_Days_of_Code_Alura-Python-Pandas/main/Dia_1-Importando_dados/Datasets/dados_emprestimos/emprestimos-20192.csv')\n",
    "dados_2020_1 = pd.read_csv('https://raw.githubusercontent.com/FranciscoFoz/7_Days_of_Code_Alura-Python-Pandas/main/Dia_1-Importando_dados/Datasets/dados_emprestimos/emprestimos-20201.csv')"
   ]
  },
  {
   "cell_type": "markdown",
   "id": "f85ee29d",
   "metadata": {},
   "source": [
    "### Concatenando os DataFrames "
   ]
  },
  {
   "cell_type": "code",
   "execution_count": 405,
   "id": "39c6c022",
   "metadata": {},
   "outputs": [
    {
     "data": {
      "text/html": [
       "<div>\n",
       "<style scoped>\n",
       "    .dataframe tbody tr th:only-of-type {\n",
       "        vertical-align: middle;\n",
       "    }\n",
       "\n",
       "    .dataframe tbody tr th {\n",
       "        vertical-align: top;\n",
       "    }\n",
       "\n",
       "    .dataframe thead th {\n",
       "        text-align: right;\n",
       "    }\n",
       "</style>\n",
       "<table border=\"1\" class=\"dataframe\">\n",
       "  <thead>\n",
       "    <tr style=\"text-align: right;\">\n",
       "      <th></th>\n",
       "      <th>id_emprestimo</th>\n",
       "      <th>codigo_barras</th>\n",
       "      <th>data_renovacao</th>\n",
       "      <th>data_emprestimo</th>\n",
       "      <th>data_devolucao</th>\n",
       "      <th>matricula_ou_siape</th>\n",
       "      <th>tipo_vinculo_usuario</th>\n",
       "    </tr>\n",
       "  </thead>\n",
       "  <tbody>\n",
       "    <tr>\n",
       "      <th>0</th>\n",
       "      <td>709684</td>\n",
       "      <td>L095049</td>\n",
       "      <td>NaN</td>\n",
       "      <td>2010/01/04 07:44:10.721000000</td>\n",
       "      <td>2010/01/05 16:26:12.662000000</td>\n",
       "      <td>2.008023e+09</td>\n",
       "      <td>ALUNO DE GRADUAÇÃO</td>\n",
       "    </tr>\n",
       "    <tr>\n",
       "      <th>1</th>\n",
       "      <td>709685</td>\n",
       "      <td>L167050</td>\n",
       "      <td>NaN</td>\n",
       "      <td>2010/01/04 07:44:10.750000000</td>\n",
       "      <td>2010/01/12 07:34:13.934000000</td>\n",
       "      <td>2.008023e+09</td>\n",
       "      <td>ALUNO DE GRADUAÇÃO</td>\n",
       "    </tr>\n",
       "    <tr>\n",
       "      <th>2</th>\n",
       "      <td>709686</td>\n",
       "      <td>2006017618</td>\n",
       "      <td>2010/01/26 08:07:01.738000000</td>\n",
       "      <td>2010/01/04 08:08:44.081000000</td>\n",
       "      <td>2010/02/25 07:36:25.800000000</td>\n",
       "      <td>2.008112e+09</td>\n",
       "      <td>ALUNO DE PÓS-GRADUAÇÃO</td>\n",
       "    </tr>\n",
       "    <tr>\n",
       "      <th>3</th>\n",
       "      <td>709687</td>\n",
       "      <td>L184117</td>\n",
       "      <td>2010/01/18 11:07:46.470000000</td>\n",
       "      <td>2010/01/04 08:24:21.284000000</td>\n",
       "      <td>2010/02/03 08:58:45.692000000</td>\n",
       "      <td>2.007211e+08</td>\n",
       "      <td>ALUNO DE GRADUAÇÃO</td>\n",
       "    </tr>\n",
       "    <tr>\n",
       "      <th>4</th>\n",
       "      <td>709684</td>\n",
       "      <td>L095049</td>\n",
       "      <td>NaN</td>\n",
       "      <td>2010/01/04 07:44:10.721000000</td>\n",
       "      <td>2010/01/05 16:26:12.662000000</td>\n",
       "      <td>2.008023e+09</td>\n",
       "      <td>ALUNO DE GRADUAÇÃO</td>\n",
       "    </tr>\n",
       "    <tr>\n",
       "      <th>...</th>\n",
       "      <td>...</td>\n",
       "      <td>...</td>\n",
       "      <td>...</td>\n",
       "      <td>...</td>\n",
       "      <td>...</td>\n",
       "      <td>...</td>\n",
       "      <td>...</td>\n",
       "    </tr>\n",
       "    <tr>\n",
       "      <th>2258013</th>\n",
       "      <td>2989086</td>\n",
       "      <td>2008047044</td>\n",
       "      <td>NaN</td>\n",
       "      <td>2020/05/05 19:51:06.059000000</td>\n",
       "      <td>2021/05/13 14:53:31.000000000</td>\n",
       "      <td>3.067431e+06</td>\n",
       "      <td>SERVIDOR TÉCNICO-ADMINISTRATIVO</td>\n",
       "    </tr>\n",
       "    <tr>\n",
       "      <th>2258014</th>\n",
       "      <td>2989087</td>\n",
       "      <td>2008047047</td>\n",
       "      <td>NaN</td>\n",
       "      <td>2020/05/05 19:51:06.135000000</td>\n",
       "      <td>2021/05/13 14:53:38.000000000</td>\n",
       "      <td>3.067431e+06</td>\n",
       "      <td>SERVIDOR TÉCNICO-ADMINISTRATIVO</td>\n",
       "    </tr>\n",
       "    <tr>\n",
       "      <th>2258015</th>\n",
       "      <td>2989088</td>\n",
       "      <td>2010052905</td>\n",
       "      <td>NaN</td>\n",
       "      <td>2020/05/05 19:51:06.164000000</td>\n",
       "      <td>2021/05/13 15:01:46.000000000</td>\n",
       "      <td>3.067431e+06</td>\n",
       "      <td>SERVIDOR TÉCNICO-ADMINISTRATIVO</td>\n",
       "    </tr>\n",
       "    <tr>\n",
       "      <th>2258016</th>\n",
       "      <td>2989089</td>\n",
       "      <td>2010048023</td>\n",
       "      <td>NaN</td>\n",
       "      <td>2020/06/09 11:54:02.669000000</td>\n",
       "      <td>2021/07/21 15:33:55.000000000</td>\n",
       "      <td>2.020101e+10</td>\n",
       "      <td>ALUNO DE PÓS-GRADUAÇÃO</td>\n",
       "    </tr>\n",
       "    <tr>\n",
       "      <th>2258017</th>\n",
       "      <td>2989090</td>\n",
       "      <td>2013106838</td>\n",
       "      <td>NaN</td>\n",
       "      <td>2020/06/09 11:54:02.852000000</td>\n",
       "      <td>2021/07/21 15:33:45.000000000</td>\n",
       "      <td>2.020101e+10</td>\n",
       "      <td>ALUNO DE PÓS-GRADUAÇÃO</td>\n",
       "    </tr>\n",
       "  </tbody>\n",
       "</table>\n",
       "<p>2258018 rows × 7 columns</p>\n",
       "</div>"
      ],
      "text/plain": [
       "         id_emprestimo codigo_barras                 data_renovacao  \\\n",
       "0               709684       L095049                            NaN   \n",
       "1               709685       L167050                            NaN   \n",
       "2               709686    2006017618  2010/01/26 08:07:01.738000000   \n",
       "3               709687       L184117  2010/01/18 11:07:46.470000000   \n",
       "4               709684       L095049                            NaN   \n",
       "...                ...           ...                            ...   \n",
       "2258013        2989086    2008047044                            NaN   \n",
       "2258014        2989087    2008047047                            NaN   \n",
       "2258015        2989088    2010052905                            NaN   \n",
       "2258016        2989089    2010048023                            NaN   \n",
       "2258017        2989090    2013106838                            NaN   \n",
       "\n",
       "                       data_emprestimo                 data_devolucao  \\\n",
       "0        2010/01/04 07:44:10.721000000  2010/01/05 16:26:12.662000000   \n",
       "1        2010/01/04 07:44:10.750000000  2010/01/12 07:34:13.934000000   \n",
       "2        2010/01/04 08:08:44.081000000  2010/02/25 07:36:25.800000000   \n",
       "3        2010/01/04 08:24:21.284000000  2010/02/03 08:58:45.692000000   \n",
       "4        2010/01/04 07:44:10.721000000  2010/01/05 16:26:12.662000000   \n",
       "...                                ...                            ...   \n",
       "2258013  2020/05/05 19:51:06.059000000  2021/05/13 14:53:31.000000000   \n",
       "2258014  2020/05/05 19:51:06.135000000  2021/05/13 14:53:38.000000000   \n",
       "2258015  2020/05/05 19:51:06.164000000  2021/05/13 15:01:46.000000000   \n",
       "2258016  2020/06/09 11:54:02.669000000  2021/07/21 15:33:55.000000000   \n",
       "2258017  2020/06/09 11:54:02.852000000  2021/07/21 15:33:45.000000000   \n",
       "\n",
       "         matricula_ou_siape             tipo_vinculo_usuario  \n",
       "0              2.008023e+09               ALUNO DE GRADUAÇÃO  \n",
       "1              2.008023e+09               ALUNO DE GRADUAÇÃO  \n",
       "2              2.008112e+09           ALUNO DE PÓS-GRADUAÇÃO  \n",
       "3              2.007211e+08               ALUNO DE GRADUAÇÃO  \n",
       "4              2.008023e+09               ALUNO DE GRADUAÇÃO  \n",
       "...                     ...                              ...  \n",
       "2258013        3.067431e+06  SERVIDOR TÉCNICO-ADMINISTRATIVO  \n",
       "2258014        3.067431e+06  SERVIDOR TÉCNICO-ADMINISTRATIVO  \n",
       "2258015        3.067431e+06  SERVIDOR TÉCNICO-ADMINISTRATIVO  \n",
       "2258016        2.020101e+10           ALUNO DE PÓS-GRADUAÇÃO  \n",
       "2258017        2.020101e+10           ALUNO DE PÓS-GRADUAÇÃO  \n",
       "\n",
       "[2258018 rows x 7 columns]"
      ]
     },
     "execution_count": 405,
     "metadata": {},
     "output_type": "execute_result"
    }
   ],
   "source": [
    "#juntando os dados\n",
    "emprestimos_biblioteca = pd.concat([dados_2010_1, dados_2010_2, dados_2011_1, dados_2011_2, dados_2012_1, dados_2012_2, dados_2013_1, dados_2013_2, dados_2014_1, dados_2014_2, dados_2015_1, dados_2015_2,\n",
    "                                   dados_2016_1, dados_2016_2, dados_2017_1, dados_2017_2, dados_2018_1, dados_2018_2, dados_2019_1, dados_2019_2, dados_2020_1], ignore_index=True)\n",
    "emprestimos_biblioteca"
   ]
  },
  {
   "cell_type": "markdown",
   "id": "caa9af9f",
   "metadata": {},
   "source": [
    "# Sanetizando os dados"
   ]
  },
  {
   "cell_type": "markdown",
   "id": "89bdb2be",
   "metadata": {},
   "source": [
    "### Verificando duplicatas"
   ]
  },
  {
   "cell_type": "code",
   "execution_count": 406,
   "id": "1973b190",
   "metadata": {},
   "outputs": [
    {
     "data": {
      "text/plain": [
       "id_emprestimo  codigo_barras  data_renovacao                 data_emprestimo                data_devolucao                 matricula_ou_siape  tipo_vinculo_usuario  \n",
       "709704         2006021442     2010/01/17 18:56:43.923000000  2010/01/04 09:58:46.522000000  2010/02/01 13:59:02.528000000  2.008010e+09        ALUNO DE GRADUAÇÃO        7\n",
       "709705         2009032168     2010/01/17 18:56:43.909000000  2010/01/04 09:58:46.549000000  2010/01/20 13:14:34.464000000  2.008010e+09        ALUNO DE GRADUAÇÃO        7\n",
       "709698         2009047725     2010/01/18 14:44:41.163000000  2010/01/04 09:21:19.099000000  2010/02/02 12:02:38.444000000  2.009047e+09        ALUNO DE GRADUAÇÃO        3\n",
       "709686         2006017618     2010/01/26 08:07:01.738000000  2010/01/04 08:08:44.081000000  2010/02/25 07:36:25.800000000  2.008112e+09        ALUNO DE PÓS-GRADUAÇÃO    2\n",
       "2461099        2012008348     2016/06/27 20:35:46.855000000  2016/06/14 11:20:33.254000000  2016/07/11 14:37:29.000000000  2.015022e+09        ALUNO DE GRADUAÇÃO        2\n",
       "                                                                                                                                                                        ..\n",
       "1443389        2011018954     2013/03/22 13:18:55.037000000  2013/03/07 11:21:26.480000000  2013/04/08 20:26:07.000000000  2.010046e+09        ALUNO DE GRADUAÇÃO        1\n",
       "1443390        2009056314     2013/03/21 09:28:45.689000000  2013/03/07 11:21:28.899000000  2013/04/05 18:18:00.000000000  2.011015e+09        ALUNO DE GRADUAÇÃO        1\n",
       "1443393        2012037906     2013/03/20 20:17:10.574000000  2013/03/07 11:24:19.326000000  2013/03/25 08:58:44.000000000  2.011038e+09        ALUNO DE GRADUAÇÃO        1\n",
       "1443395        2011033069     2013/04/07 01:06:51.679000000  2013/03/07 11:25:22.661000000  2013/05/07 16:19:34.000000000  2.011106e+09        ALUNO DE PÓS-GRADUAÇÃO    1\n",
       "10322328       2014070441     2018/01/15 12:26:00.697000000  2017/12/29 18:21:09.060000000  2018/01/31 18:50:25.000000000  2.014063e+09        ALUNO DE GRADUAÇÃO        1\n",
       "Name: count, Length: 968028, dtype: int64"
      ]
     },
     "execution_count": 406,
     "metadata": {},
     "output_type": "execute_result"
    }
   ],
   "source": [
    "#ver se tem dados duplicados\n",
    "emprestimos_biblioteca.value_counts()"
   ]
  },
  {
   "cell_type": "markdown",
   "id": "5b614d38",
   "metadata": {},
   "source": [
    "### Excluindo duplicatas"
   ]
  },
  {
   "cell_type": "code",
   "execution_count": null,
   "id": "649e8c9d",
   "metadata": {},
   "outputs": [],
   "source": [
    "emprestimos_biblioteca = emprestimos_biblioteca.drop_duplicates()"
   ]
  },
  {
   "cell_type": "code",
   "execution_count": null,
   "id": "8fcb854e",
   "metadata": {},
   "outputs": [],
   "source": [
    "emprestimos_biblioteca.value_counts()"
   ]
  },
  {
   "cell_type": "code",
   "execution_count": null,
   "id": "55ba82e1",
   "metadata": {},
   "outputs": [],
   "source": [
    "emprestimos_biblioteca.head()"
   ]
  },
  {
   "cell_type": "markdown",
   "id": "46fd0903",
   "metadata": {},
   "source": [
    "# Importando mais dados"
   ]
  },
  {
   "cell_type": "code",
   "execution_count": null,
   "id": "f63c84c7",
   "metadata": {},
   "outputs": [],
   "source": [
    "dados_exemplares = pd.read_parquet('https://github.com/FranciscoFoz/7_Days_of_Code_Alura-Python-Pandas/raw/main/Dia_1-Importando_dados/Datasets/dados_exemplares.parquet')\n",
    "dados_exemplares\n"
   ]
  },
  {
   "cell_type": "markdown",
   "id": "7678323b",
   "metadata": {},
   "source": [
    "### Unindo os DataFrames"
   ]
  },
  {
   "cell_type": "code",
   "execution_count": null,
   "id": "59cacacf",
   "metadata": {},
   "outputs": [],
   "source": [
    "emprestimos_completo = emprestimos_biblioteca.merge(dados_exemplares)\n",
    "emprestimos_completo"
   ]
  },
  {
   "cell_type": "markdown",
   "id": "b28cd88e",
   "metadata": {},
   "source": [
    "# Dia 2"
   ]
  },
  {
   "cell_type": "markdown",
   "id": "0f98a053",
   "metadata": {},
   "source": [
    "### Atribuindo  a coluna com nomenclatura da CDU"
   ]
  },
  {
   "cell_type": "code",
   "execution_count": null,
   "id": "4430e4f3",
   "metadata": {},
   "outputs": [],
   "source": [
    "CDU_lista = []\n",
    "for CDU in emprestimos_completo['localizacao']:\n",
    "    if(CDU < 100):\n",
    "        CDU_lista.append('Generalidades')\n",
    "    elif(CDU < 200):\n",
    "        CDU_lista.append('Filosofia e psicologia')\n",
    "    elif(CDU < 300):\n",
    "        CDU_lista.append('Religião')\n",
    "    elif(CDU < 400):\n",
    "        CDU_lista.append('Ciências sociais')\n",
    "    elif(CDU < 500):\n",
    "        CDU_lista.append('Classe vaga')\n",
    "    elif(CDU < 600):\n",
    "        CDU_lista.append('Matemática e ciências naturais')\n",
    "    elif(CDU < 700):\n",
    "        CDU_lista.append('Ciências aplicadas')\n",
    "    elif(CDU < 800):\n",
    "        CDU_lista.append('Belas artes')\n",
    "    elif(CDU < 900):\n",
    "        CDU_lista.append('Linguagem')\n",
    "    else:\n",
    "        CDU_lista.append('Geografia. Biografia. História.')\n",
    "\n",
    "emprestimos_completo['CDU_geral'] = CDU_lista"
   ]
  },
  {
   "cell_type": "code",
   "execution_count": null,
   "id": "15f50a1a",
   "metadata": {
    "scrolled": false
   },
   "outputs": [],
   "source": [
    "emprestimos_completo.head()"
   ]
  },
  {
   "cell_type": "markdown",
   "id": "7529aeea",
   "metadata": {},
   "source": [
    "### Excluir coluna \"registro_sistema\""
   ]
  },
  {
   "cell_type": "code",
   "execution_count": null,
   "id": "f81cb9e5",
   "metadata": {},
   "outputs": [],
   "source": [
    "emprestimos_completo.drop(columns=['registro_sistema'],inplace=True)"
   ]
  },
  {
   "cell_type": "markdown",
   "id": "daf3602d",
   "metadata": {},
   "source": [
    "### Modificar tipo de dado da matrícula"
   ]
  },
  {
   "cell_type": "code",
   "execution_count": null,
   "id": "96ea3804",
   "metadata": {},
   "outputs": [],
   "source": [
    "emprestimos_completo['matricula_ou_siape'] = emprestimos_completo['matricula_ou_siape'].astype('string')"
   ]
  },
  {
   "cell_type": "markdown",
   "id": "14a98d54",
   "metadata": {},
   "source": [
    "# Dia 3"
   ]
  },
  {
   "cell_type": "markdown",
   "id": "059e451e",
   "metadata": {},
   "source": [
    "### Explorando o Datetime dos dados"
   ]
  },
  {
   "cell_type": "code",
   "execution_count": null,
   "id": "ac2e03a8",
   "metadata": {},
   "outputs": [],
   "source": [
    "import pandas as pd\n",
    "import seaborn as sns\n",
    "import matplotlib.ticker as ticker\n",
    "import matplotlib.pyplot as plt"
   ]
  },
  {
   "cell_type": "code",
   "execution_count": null,
   "id": "9ca53c2a",
   "metadata": {},
   "outputs": [],
   "source": [
    "emprestimos_completo.head()"
   ]
  },
  {
   "cell_type": "markdown",
   "id": "040c249c",
   "metadata": {},
   "source": [
    "### Verificando a relação entre empréstimo e empréstimo de exemplar"
   ]
  },
  {
   "cell_type": "code",
   "execution_count": null,
   "id": "9c1b6edc",
   "metadata": {},
   "outputs": [],
   "source": [
    "emprestimos_completo['id_emprestimo'].value_counts()"
   ]
  },
  {
   "cell_type": "code",
   "execution_count": null,
   "id": "752c6c55",
   "metadata": {},
   "outputs": [],
   "source": [
    "emprestimos_completo.loc[emprestimos_completo['id_emprestimo']==2014596]"
   ]
  },
  {
   "cell_type": "markdown",
   "id": "55b06037",
   "metadata": {},
   "source": [
    "### Quantos empréstimos foram realizados ao total?"
   ]
  },
  {
   "cell_type": "code",
   "execution_count": null,
   "id": "b9223096",
   "metadata": {},
   "outputs": [],
   "source": [
    "emprestimos = len(emprestimos_completo['id_emprestimo'].drop_duplicates())\n",
    "emprestimos"
   ]
  },
  {
   "cell_type": "markdown",
   "id": "1a2fc9fe",
   "metadata": {},
   "source": [
    "### Quantos exemplares foram emprestados ao total?"
   ]
  },
  {
   "cell_type": "code",
   "execution_count": null,
   "id": "aa00dcba",
   "metadata": {},
   "outputs": [],
   "source": [
    "exemplares = len(emprestimos_completo)\n",
    "exemplares"
   ]
  },
  {
   "cell_type": "markdown",
   "id": "a1df409d",
   "metadata": {},
   "source": [
    "## Quantidade de exemplares emprestadas por ano"
   ]
  },
  {
   "cell_type": "code",
   "execution_count": null,
   "id": "6616f724",
   "metadata": {},
   "outputs": [],
   "source": [
    "emprestimos_data = pd.DataFrame(emprestimos_completo['data_emprestimo'].value_counts()).reset_index()\n",
    "emprestimos_data.columns = ['data','quantidade']\n",
    "emprestimos_data['data'] = pd.to_datetime(emprestimos_data['data'])\n",
    "emprestimos_data"
   ]
  },
  {
   "cell_type": "code",
   "execution_count": null,
   "id": "24f25677",
   "metadata": {
    "scrolled": false
   },
   "outputs": [],
   "source": [
    "emprestimos_por_ano = emprestimos_data.groupby(by=emprestimos_data.data.dt.year).sum(numeric_only=True)\n",
    "emprestimos_por_ano.index.name = 'ano'\n",
    "emprestimos_por_ano\n"
   ]
  },
  {
   "cell_type": "markdown",
   "id": "741b9cfb",
   "metadata": {},
   "source": [
    "### Configurando tema dos gráficos"
   ]
  },
  {
   "cell_type": "code",
   "execution_count": null,
   "id": "0cae934b",
   "metadata": {},
   "outputs": [],
   "source": [
    "sns.set_theme(context='notebook',\n",
    "             style='darkgrid',\n",
    "             palette='deep',\n",
    "             font_scale=1.3,\n",
    "             rc={\"figure.figsize\":(15,8)})"
   ]
  },
  {
   "cell_type": "code",
   "execution_count": null,
   "id": "001614a4",
   "metadata": {},
   "outputs": [],
   "source": [
    "ax = sns.lineplot(data=emprestimos_por_ano, x ='ano', y = 'quantidade')\n",
    "ax.set(xlabel=None,ylabel=None)\n",
    "ax.tick_params(axis='x', rotation= 30)\n",
    "ax.yaxis.set_major_formatter(ticker.FuncFormatter(lambda x, p: format(int(x), ',').replace(',','.')))\n",
    "\n",
    "ax.set_title('Quantidade de exemplares emprestados do SISBI por ano'+'\\n',size = 20, loc = 'left', weight = 'bold')\n",
    "\n",
    "ax = ax"
   ]
  },
  {
   "cell_type": "markdown",
   "id": "31a470a1",
   "metadata": {},
   "source": [
    "## Quantos foram por cada mês ?"
   ]
  },
  {
   "cell_type": "code",
   "execution_count": null,
   "id": "58dccafd",
   "metadata": {},
   "outputs": [],
   "source": [
    "emprestimos_por_mes = emprestimos_data.groupby(by=emprestimos_data.data.dt.month).sum(numeric_only=True)\n",
    "emprestimos_por_mes.index.name = 'mes'\n",
    "emprestimos_por_mes"
   ]
  },
  {
   "cell_type": "markdown",
   "id": "cffe5a7d",
   "metadata": {},
   "source": [
    "### Modificando os números por nomes dos meses"
   ]
  },
  {
   "cell_type": "code",
   "execution_count": null,
   "id": "dc1913a4",
   "metadata": {},
   "outputs": [],
   "source": [
    "dicionario_meses= {1:'Jan',2:'Fev',3:'Mar',4:'Abr',\n",
    "                    5:'Mai',6:'Jun',7:'Jul',8:'Ago',\n",
    "                    9:'Set',10:'Out',11:'Nov',12:'Dez'}"
   ]
  },
  {
   "cell_type": "code",
   "execution_count": null,
   "id": "3011b0cf",
   "metadata": {},
   "outputs": [],
   "source": [
    "emprestimos_por_mes.index = emprestimos_por_mes.index.map(dicionario_meses)"
   ]
  },
  {
   "cell_type": "code",
   "execution_count": null,
   "id": "71b92dc4",
   "metadata": {},
   "outputs": [],
   "source": [
    "emprestimos_por_mes"
   ]
  },
  {
   "cell_type": "code",
   "execution_count": null,
   "id": "b095b8ce",
   "metadata": {},
   "outputs": [],
   "source": [
    "ax = sns.lineplot(data=emprestimos_por_mes,x='mes',y='quantidade')\n",
    "ax.set(xlabel=None,ylabel=None)\n",
    "ax.tick_params(axis='x',rotation=30)\n",
    "ax.yaxis.set_major_formatter(ticker.FuncFormatter(lambda x, p: format(int(x), ',').replace(',','.')))                \n",
    "\n",
    "ax.set_title(\"Quantidade de exemplares emprestados do SISBI por mês\"+\"\\n\",size=20,loc='left',weight='bold')\n",
    "ax.text(s='Período de 2010 a 2020',x=-0.5,y=265000,fontsize=18, ha='left',color='gray')\n",
    "\n",
    "ax=ax"
   ]
  },
  {
   "cell_type": "markdown",
   "id": "92f97592",
   "metadata": {},
   "source": [
    "## Qual é a quantidade de empréstimos por hora ao longo do dia?"
   ]
  },
  {
   "cell_type": "code",
   "execution_count": null,
   "id": "b87b5abd",
   "metadata": {},
   "outputs": [],
   "source": [
    "emprestimos_data.data"
   ]
  },
  {
   "cell_type": "code",
   "execution_count": null,
   "id": "270685c2",
   "metadata": {},
   "outputs": [],
   "source": [
    "emprestimos_por_hora = emprestimos_data.groupby(by=emprestimos_data.data.dt.hour).sum(numeric_only = True)\n",
    "emprestimos_por_hora.index.name = 'horas'\n",
    "emprestimos_por_hora = emprestimos_por_hora.reset_index()\n",
    "emprestimos_por_hora"
   ]
  },
  {
   "cell_type": "code",
   "execution_count": null,
   "id": "d42f8b3b",
   "metadata": {},
   "outputs": [],
   "source": [
    "ax = sns.barplot(data=emprestimos_por_hora,y='quantidade',x='horas',\n",
    "                 palette='Blues',hue='quantidade',dodge=False)                  #Ordenar pela quantidade de exemplares emprestados\n",
    "plt.legend([],[], frameon=False)                                                #Excluir a legenda do gráfico\n",
    "\n",
    "ax.set(xlabel='Horário',ylabel=None)\n",
    "ax.yaxis.set_major_formatter(ticker.FuncFormatter(lambda x, p: format(int(x), ',').replace(',','.')))           \n",
    "ax.set_title(\"Quantidade de exemplares emprestados do SISBI por faixa horária\"+\"\\n\",size=20,loc='left',weight='bold')\n",
    "ax.text(s='Período de 2010 a 2020',x=-0.5,y=225000,fontsize=18, ha='left',color='gray')\n",
    "ax=ax"
   ]
  },
  {
   "cell_type": "markdown",
   "id": "d9ed6c33",
   "metadata": {},
   "source": [
    "# Dia 4"
   ]
  },
  {
   "cell_type": "markdown",
   "id": "3cbbaab1",
   "metadata": {},
   "source": [
    "### Continuando a explorar os dados"
   ]
  },
  {
   "cell_type": "code",
   "execution_count": null,
   "id": "461129b9",
   "metadata": {},
   "outputs": [],
   "source": [
    "emprestimos_completo.head()"
   ]
  },
  {
   "cell_type": "markdown",
   "id": "777496bb",
   "metadata": {},
   "source": [
    "### Modificando tipo de dado da data de empréstimo do DataFrame"
   ]
  },
  {
   "cell_type": "code",
   "execution_count": null,
   "id": "456da33f",
   "metadata": {},
   "outputs": [],
   "source": [
    "emprestimos_completo['data_emprestimo'] = pd.to_datetime(emprestimos_completo['data_emprestimo'])"
   ]
  },
  {
   "cell_type": "markdown",
   "id": "6d1d36a2",
   "metadata": {},
   "source": [
    "## Verificando valores únicos das variáveis"
   ]
  },
  {
   "cell_type": "code",
   "execution_count": null,
   "id": "0abe0478",
   "metadata": {},
   "outputs": [],
   "source": [
    "emprestimos_completo.tipo_vinculo_usuario.unique()"
   ]
  },
  {
   "cell_type": "code",
   "execution_count": null,
   "id": "b00fb4f2",
   "metadata": {},
   "outputs": [],
   "source": [
    "emprestimos_completo.colecao.unique()"
   ]
  },
  {
   "cell_type": "code",
   "execution_count": null,
   "id": "024e8a80",
   "metadata": {},
   "outputs": [],
   "source": [
    "emprestimos_completo.biblioteca.unique()"
   ]
  },
  {
   "cell_type": "code",
   "execution_count": null,
   "id": "137f6bd2",
   "metadata": {},
   "outputs": [],
   "source": [
    "emprestimos_completo.CDU_geral.unique()"
   ]
  },
  {
   "cell_type": "markdown",
   "id": "a029ea60",
   "metadata": {},
   "source": [
    "## Função"
   ]
  },
  {
   "cell_type": "code",
   "execution_count": null,
   "id": "5d877fb4",
   "metadata": {},
   "outputs": [],
   "source": [
    "def tabela_frequencia(variavel):\n",
    "    '''\n",
    "    Esta função irá gerar uma tabela de frequência com percentuais de acordo com\n",
    "    a variável passada.\n",
    "    \n",
    "    variavel = variável categórica escolhida de dentro do conjunto de dados\n",
    "    emprestimos_completo\n",
    "    '''\n",
    "    \n",
    "    dataframe = pd.DataFrame(emprestimos_completo[variavel].value_counts())\n",
    "    dataframe.columns = ['quantidade']\n",
    "    dataframe['percentual'] = round((dataframe.quantidade / dataframe.quantidade.sum())*100,1)\n",
    "    \n",
    "    return dataframe"
   ]
  },
  {
   "cell_type": "markdown",
   "id": "fda1a5f1",
   "metadata": {},
   "source": [
    "### Quantos foram por tipo de vinculo do usuario?"
   ]
  },
  {
   "cell_type": "code",
   "execution_count": null,
   "id": "df127b54",
   "metadata": {},
   "outputs": [],
   "source": [
    "tabela_frequencia('tipo_vinculo_usuario')"
   ]
  },
  {
   "cell_type": "markdown",
   "id": "c1337bcc",
   "metadata": {},
   "source": [
    "### Quantos foram por coleção?"
   ]
  },
  {
   "cell_type": "code",
   "execution_count": null,
   "id": "a5ff207a",
   "metadata": {},
   "outputs": [],
   "source": [
    "tabela_frequencia('colecao')"
   ]
  },
  {
   "cell_type": "markdown",
   "id": "1a11241a",
   "metadata": {},
   "source": [
    "### Quantos foram por biblioteca?"
   ]
  },
  {
   "cell_type": "code",
   "execution_count": null,
   "id": "48700401",
   "metadata": {},
   "outputs": [],
   "source": [
    "tabela_frequencia('biblioteca')"
   ]
  },
  {
   "cell_type": "markdown",
   "id": "4886f25c",
   "metadata": {},
   "source": [
    "### Quantos foram pela CDU geral?"
   ]
  },
  {
   "cell_type": "code",
   "execution_count": null,
   "id": "597a3369",
   "metadata": {},
   "outputs": [],
   "source": [
    "tabela_frequencia('CDU_geral')"
   ]
  },
  {
   "cell_type": "markdown",
   "id": "45204308",
   "metadata": {},
   "source": [
    "# Dia 5"
   ]
  },
  {
   "cell_type": "markdown",
   "id": "ec0ff754",
   "metadata": {},
   "source": [
    "### Analisando empréstimos com boxplot"
   ]
  },
  {
   "cell_type": "code",
   "execution_count": null,
   "id": "4b8116c8",
   "metadata": {},
   "outputs": [],
   "source": [
    "emprestimos_completo.head()"
   ]
  },
  {
   "cell_type": "markdown",
   "id": "c9dba619",
   "metadata": {},
   "source": [
    "## Alunos de graduação"
   ]
  },
  {
   "cell_type": "code",
   "execution_count": null,
   "id": "35e3fb1a",
   "metadata": {},
   "outputs": [],
   "source": [
    "alunos_graduacao = emprestimos_completo.query('tipo_vinculo_usuario == \"ALUNO DE GRADUAÇÃO\"')\n",
    "alunos_graduacao.colecao.value_counts()"
   ]
  },
  {
   "cell_type": "markdown",
   "id": "438d807e",
   "metadata": {},
   "source": [
    "### Criando tabela com a quantidade mensal por ano"
   ]
  },
  {
   "cell_type": "code",
   "execution_count": null,
   "id": "58c1ebb2",
   "metadata": {},
   "outputs": [],
   "source": [
    "alunos_graduacao_acervo_circulante = alunos_graduacao.query('colecao == \"Acervo Circulante\"')\n",
    "alunos_graduacao_acervo_circulante = pd.DataFrame(alunos_graduacao_acervo_circulante)\n",
    "alunos_graduacao_acervo_circulante['data_emprestimo'] = pd.to_datetime(alunos_graduacao_acervo_circulante['data_emprestimo'])\n",
    "alunos_graduacao_acervo_circulante['ano'] = alunos_graduacao_acervo_circulante['data_emprestimo'].dt.year\n",
    "alunos_graduacao_acervo_circulante['mes'] = alunos_graduacao_acervo_circulante['data_emprestimo'].dt.month\n",
    "alunos_graduacao_acervo_circulante = alunos_graduacao_acervo_circulante.loc[:,['ano','mes']]\n",
    "alunos_graduacao_acervo_circulante = alunos_graduacao_acervo_circulante.value_counts().to_frame('quantidade').reset_index()\n",
    "alunos_graduacao_acervo_circulante"
   ]
  },
  {
   "cell_type": "markdown",
   "id": "c8d17d21",
   "metadata": {},
   "source": [
    "## Função gera_box_plot"
   ]
  },
  {
   "cell_type": "code",
   "execution_count": null,
   "id": "b6cdb3f4",
   "metadata": {},
   "outputs": [],
   "source": [
    "def gera_box_plot(dataset,x,y,titulo,subtitulo):\n",
    "    '''\n",
    "    Esta função irá gerar um gráfico de boxplot\n",
    "    \n",
    "    Dataset = conjunto de dados do gráfico\n",
    "    x = valor do eixo x do gráfico\n",
    "    y = valor do eixo y do gráfico\n",
    "    titulo = titulo do gráfico\n",
    "    subtitulo = subtitulo do texto\n",
    "    '''\n",
    "    sns.set_theme(style=\"darkgrid\", palette= 'Blues', font_scale= 1.3)\n",
    "    plt.figure(figsize=(16,10))\n",
    "    \n",
    "    ax = sns.boxplot(y= y, x= x, data= dataset, color='#4171EF')\n",
    "    ax.yaxis.set_major_formatter(ticker.FuncFormatter(lambda x, p: format(int(x), ',').replace(',','.')))\n",
    "    \n",
    "    plt.ylim(0,max(dataset[y])*1.1)\n",
    "    plt.xlabel(None)\n",
    "    plt.ylabel(None)\n",
    "    \n",
    "    ax.set_title(titulo+\"\\n\",size=20,loc='left',weight='bold')\n",
    "    ax.text(s=subtitulo,x=-0.5,y=max(dataset[y])*1.11,fontsize=18, ha='left',color='gray')  "
   ]
  },
  {
   "cell_type": "markdown",
   "id": "866e0057",
   "metadata": {},
   "source": [
    "### Distribuição dos empréstimos mensais realizados pelos alunos de graduação na coleção do acervo circulante"
   ]
  },
  {
   "cell_type": "code",
   "execution_count": null,
   "id": "1d7d04c6",
   "metadata": {},
   "outputs": [],
   "source": [
    "gera_box_plot(alunos_graduacao_acervo_circulante,'ano','quantidade','Distribuição dos empréstimos mensais', 'Realizados pelos alunos de graduação no acervo circulante')"
   ]
  },
  {
   "cell_type": "markdown",
   "id": "8ea8fe76",
   "metadata": {},
   "source": [
    "## Alunos de pós graduação"
   ]
  },
  {
   "cell_type": "code",
   "execution_count": null,
   "id": "5017f652",
   "metadata": {},
   "outputs": [],
   "source": [
    "alunos_pos_graduacao = emprestimos_completo.query('tipo_vinculo_usuario == \"ALUNO DE PÓS-GRADUAÇÃO\"')\n",
    "alunos_pos_graduacao.colecao.value_counts()"
   ]
  },
  {
   "cell_type": "code",
   "execution_count": null,
   "id": "a2dcee7f",
   "metadata": {},
   "outputs": [],
   "source": [
    "alunos_pos_graduacao_acervo_circulante = alunos_pos_graduacao.query('colecao == \"Acervo Circulante\"')\n",
    "alunos_pos_graduacao_acervo_circulante = pd.DataFrame(alunos_pos_graduacao_acervo_circulante)\n",
    "alunos_pos_graduacao_acervo_circulante['data_emprestimo'] = pd.to_datetime(alunos_pos_graduacao_acervo_circulante['data_emprestimo'])\n",
    "alunos_pos_graduacao_acervo_circulante['ano'] = alunos_pos_graduacao_acervo_circulante['data_emprestimo'].dt.year\n",
    "alunos_pos_graduacao_acervo_circulante['mes'] = alunos_pos_graduacao_acervo_circulante['data_emprestimo'].dt.month\n",
    "alunos_pos_graduacao_acervo_circulante = alunos_pos_graduacao_acervo_circulante.loc[:,['ano','mes']]\n",
    "alunos_pos_graduacao_acervo_circulante = alunos_pos_graduacao_acervo_circulante.value_counts().to_frame('quantidade').reset_index()\n",
    "alunos_pos_graduacao_acervo_circulante"
   ]
  },
  {
   "cell_type": "markdown",
   "id": "db1be57c",
   "metadata": {},
   "source": [
    "### Distribuição dos empréstimos mensais realizados pelos alunos de pós graduação na coleção do acervo circulante"
   ]
  },
  {
   "cell_type": "code",
   "execution_count": null,
   "id": "dd5b9232",
   "metadata": {},
   "outputs": [],
   "source": [
    "gera_box_plot(alunos_pos_graduacao_acervo_circulante,'ano','quantidade','Distribuição dos empréstimos mensais', 'Realizados pelos alunos de pós graduação no acervo circulante')"
   ]
  },
  {
   "cell_type": "markdown",
   "id": "e7613d45",
   "metadata": {},
   "source": [
    "# Dia 6"
   ]
  },
  {
   "cell_type": "markdown",
   "id": "a1326a3a",
   "metadata": {},
   "source": [
    "## Lendo arquivo excel"
   ]
  },
  {
   "cell_type": "code",
   "execution_count": null,
   "id": "901a085e",
   "metadata": {},
   "outputs": [],
   "source": [
    "cadastro_usuarios_antes_2010 = pd.read_excel('https://github.com/FranciscoFoz/7_Days_of_Code_Alura-Python-Pandas/raw/main/Dia_6-Novos_dados_novas_analises/Datasets/matricula_alunos.xlsx', sheet_name='Até 2010', skiprows= 1)\n",
    "cadastro_usuarios_depois_2010 = pd.read_excel('https://github.com/FranciscoFoz/7_Days_of_Code_Alura-Python-Pandas/raw/main/Dia_6-Novos_dados_novas_analises/Datasets/matricula_alunos.xlsx', sheet_name= 'Após 2010', skiprows = 1)"
   ]
  },
  {
   "cell_type": "code",
   "execution_count": null,
   "id": "f5aab5f4",
   "metadata": {},
   "outputs": [],
   "source": [
    "cadastro_usuarios_antes_2010"
   ]
  },
  {
   "cell_type": "code",
   "execution_count": null,
   "id": "0e6ae80a",
   "metadata": {},
   "outputs": [],
   "source": [
    "cadastro_usuarios_antes_2010.columns = ['matricula_ou_siape', 'tipo_vinculo_usuario','curso']"
   ]
  },
  {
   "cell_type": "code",
   "execution_count": null,
   "id": "94b70aa1",
   "metadata": {},
   "outputs": [],
   "source": [
    "cadastro_usuarios_antes_2010"
   ]
  },
  {
   "cell_type": "code",
   "execution_count": null,
   "id": "6d839b89",
   "metadata": {},
   "outputs": [],
   "source": [
    "cadastro_usuarios_depois_2010.columns = ['matricula_ou_siape', 'tipo_vinculo_usuario', 'curso']"
   ]
  },
  {
   "cell_type": "code",
   "execution_count": null,
   "id": "6cc86d2a",
   "metadata": {},
   "outputs": [],
   "source": [
    "cadastro_usuarios_depois_2010"
   ]
  },
  {
   "cell_type": "code",
   "execution_count": null,
   "id": "5d2469b1",
   "metadata": {},
   "outputs": [],
   "source": [
    "#concatenando e alterando o tipo de dado presente em matricula_ou_siape\n",
    "\n",
    "cadastro_usuarios_excel = pd.concat([cadastro_usuarios_antes_2010, cadastro_usuarios_depois_2010], ignore_index= True)\n",
    "cadastro_usuarios_excel.matricula_ou_siape = cadastro_usuarios_excel.matricula_ou_siape.astype('string')\n",
    "cadastro_usuarios_excel"
   ]
  },
  {
   "cell_type": "markdown",
   "id": "8d84098f",
   "metadata": {},
   "source": [
    "## Lendo arquivo JSON"
   ]
  },
  {
   "cell_type": "code",
   "execution_count": null,
   "id": "55c8a374",
   "metadata": {},
   "outputs": [],
   "source": [
    "cadastro_usuarios_json = pd.read_json('https://github.com/FranciscoFoz/7_Days_of_Code_Alura-Python-Pandas/raw/main/Dia_6-Novos_dados_novas_analises/Datasets/cadastro_alunos.json')\n",
    "cadastro_usuarios_json"
   ]
  },
  {
   "cell_type": "code",
   "execution_count": null,
   "id": "c5b99fa5",
   "metadata": {},
   "outputs": [],
   "source": [
    "cadastro_usuarios_graduacao_json = pd.read_json(cadastro_usuarios_json.registros[0])"
   ]
  },
  {
   "cell_type": "code",
   "execution_count": null,
   "id": "858870b8",
   "metadata": {},
   "outputs": [],
   "source": [
    "cadastro_usuarios_graduacao_json"
   ]
  },
  {
   "cell_type": "code",
   "execution_count": null,
   "id": "75d174d7",
   "metadata": {},
   "outputs": [],
   "source": [
    "cadastro_usuarios_graduacao_json.info()"
   ]
  },
  {
   "cell_type": "markdown",
   "id": "e2d615c4",
   "metadata": {},
   "source": [
    "## Modificando tipo de dado da matricula"
   ]
  },
  {
   "cell_type": "code",
   "execution_count": null,
   "id": "89634523",
   "metadata": {},
   "outputs": [],
   "source": [
    "cadastro_usuarios_graduacao_json.matricula_ou_siape = cadastro_usuarios_graduacao_json.matricula_ou_siape.astype('float')\n",
    "cadastro_usuarios_graduacao_json.matricula_ou_siape = cadastro_usuarios_graduacao_json.matricula_ou_siape.astype('string')"
   ]
  },
  {
   "cell_type": "code",
   "execution_count": null,
   "id": "431cfa13",
   "metadata": {},
   "outputs": [],
   "source": [
    "cadastro_usuarios_graduacao_json.info()"
   ]
  },
  {
   "cell_type": "markdown",
   "id": "7a090e0a",
   "metadata": {},
   "source": [
    "## Concatenando arquivos Excel e JSON"
   ]
  },
  {
   "cell_type": "code",
   "execution_count": null,
   "id": "2aba8ba1",
   "metadata": {},
   "outputs": [],
   "source": [
    "cadastro_usuarios_cursos = pd.concat([cadastro_usuarios_excel, cadastro_usuarios_json], ignore_index = True)\n",
    "cadastro_usuarios_cursos"
   ]
  },
  {
   "cell_type": "markdown",
   "id": "a24dfe7b",
   "metadata": {},
   "source": [
    "## Emprestimos dos alunos de graduação de 2015 em diante"
   ]
  },
  {
   "cell_type": "code",
   "execution_count": null,
   "id": "63e3a279",
   "metadata": {},
   "outputs": [],
   "source": [
    "matricula_data_de_emprestimo = emprestimos_completo.query(\"tipo_vinculo_usuario == 'ALUNO DE GRADUAÇÃO'\")\n",
    "matricula_data_de_emprestimo = matricula_data_de_emprestimo.loc[:,['matricula_ou_siape','data_emprestimo']]\n",
    "matricula_data_de_emprestimo = matricula_data_de_emprestimo.query('data_emprestimo > 2015')\n",
    "matricula_data_de_emprestimo = matricula_data_de_emprestimo.reset_index(drop=True)\n",
    "matricula_data_de_emprestimo"
   ]
  },
  {
   "cell_type": "markdown",
   "id": "cf8af4b6",
   "metadata": {},
   "source": [
    "## Excluindo valores nulos de matricula"
   ]
  },
  {
   "cell_type": "code",
   "execution_count": null,
   "id": "a32f44c3",
   "metadata": {},
   "outputs": [],
   "source": [
    "matricula_data_de_emprestimo.isna().sum()"
   ]
  },
  {
   "cell_type": "code",
   "execution_count": null,
   "id": "62dd3983",
   "metadata": {},
   "outputs": [],
   "source": [
    "matricula_data_de_emprestimo = matricula_data_de_emprestimo.dropna()"
   ]
  },
  {
   "cell_type": "markdown",
   "id": "2cecc09f",
   "metadata": {},
   "source": [
    "## Filtrar cursos selecionados"
   ]
  },
  {
   "cell_type": "code",
   "execution_count": null,
   "id": "90f57d2d",
   "metadata": {},
   "outputs": [],
   "source": [
    "cadastro_usuarios_cursos_selecionados = cadastro_usuarios_cursos.query(\"curso == ['BIBLIOTECONOMIA','CIÊNCIAS SOCIAIS','COMUNICAÇÃO SOCIAL','DIREITO','FILOSOFIA','PEDAGOGIA']\")\n",
    "cadastro_usuarios_cursos_selecionados"
   ]
  },
  {
   "cell_type": "markdown",
   "id": "e63072c0",
   "metadata": {},
   "source": [
    "## Unir Dataframes de cadastro de usuários com o de empréstimos"
   ]
  },
  {
   "cell_type": "code",
   "execution_count": null,
   "id": "486a1991",
   "metadata": {},
   "outputs": [],
   "source": [
    "cadastro_usuarios_cursos_selecionados = matricula_data_de_emprestimo.merge(cadastro_usuarios_cursos_selecionados)\n",
    "cadastro_usuarios_cursos_selecionados"
   ]
  },
  {
   "cell_type": "code",
   "execution_count": null,
   "id": "a33563ac",
   "metadata": {},
   "outputs": [],
   "source": [
    "cadastro_usuarios_cursos_selecionados.data_emprestimo = cadastro_usuarios_cursos_selecionados.data_emprestimo.dt.year"
   ]
  },
  {
   "cell_type": "code",
   "execution_count": null,
   "id": "c976e767",
   "metadata": {},
   "outputs": [],
   "source": [
    "emprestimos_cursos_selecionados = cadastro_usuarios_cursos_selecionados.iloc[:,[1,3]].value_counts().reset_index()\n",
    "emprestimos_cursos_selecionados.columns = ['ANO','CURSO','QUANTIDADE_EMPRESTIMOS']\n",
    "emprestimos_cursos_selecionados"
   ]
  },
  {
   "cell_type": "markdown",
   "id": "a20da8c3",
   "metadata": {},
   "source": [
    "## Tabela pivotada"
   ]
  },
  {
   "cell_type": "code",
   "execution_count": null,
   "id": "7f0770c2",
   "metadata": {},
   "outputs": [],
   "source": [
    "emprestimos_tipo_usuario_curso_pivot = emprestimos_cursos_selecionados.pivot_table(\n",
    "    index = 'CURSO',\n",
    "    columns = 'ANO',\n",
    "    values = 'QUANTIDADE_EMPRESTIMOS',\n",
    "    fill_value = '-',\n",
    "    aggfunc = sum,\n",
    "    margins = True,\n",
    "    margins_name = 'TOTAL'\n",
    "\n",
    ")\n",
    "emprestimos_cursos_selecionados"
   ]
  },
  {
   "cell_type": "markdown",
   "id": "f3c9e6cd",
   "metadata": {},
   "source": [
    "# Dia 7"
   ]
  },
  {
   "cell_type": "markdown",
   "id": "7f5f9f53",
   "metadata": {},
   "source": [
    "## Apresentando resultados em HTML"
   ]
  },
  {
   "cell_type": "markdown",
   "id": "bc250654",
   "metadata": {},
   "source": [
    "### Arquivo excel"
   ]
  },
  {
   "cell_type": "code",
   "execution_count": null,
   "id": "389406b9",
   "metadata": {},
   "outputs": [],
   "source": [
    "cadastro_usuarios_antes_2010 = pd.read_excel('https://github.com/FranciscoFoz/7_Days_of_Code_Alura-Python-Pandas/raw/main/Dia_6-Novos_dados_novas_analises/Datasets/matricula_alunos.xlsx', sheet_name = 'Até 2010', skiprows = 1)\n",
    "cadastro_usuarios_depois_2010 = pd.read_excel('https://github.com/FranciscoFoz/7_Days_of_Code_Alura-Python-Pandas/raw/main/Dia_6-Novos_dados_novas_analises/Datasets/matricula_alunos.xlsx', sheet_name ='Após 2010', skiprows = 1)"
   ]
  },
  {
   "cell_type": "code",
   "execution_count": null,
   "id": "09e8df31",
   "metadata": {},
   "outputs": [],
   "source": [
    "cadastro_usuarios_antes_2010"
   ]
  },
  {
   "cell_type": "code",
   "execution_count": null,
   "id": "3d03bbfa",
   "metadata": {},
   "outputs": [],
   "source": [
    "cadastro_usuarios_antes_2010.columns = ['matricula_ou_siape', 'tipo_vinculo_usuario', 'curso']\n",
    "cadastro_usuarios_depois_2010.columns = ['matricula_ou_siape', 'tipo_vinculo_usuario', 'curso']"
   ]
  },
  {
   "cell_type": "code",
   "execution_count": null,
   "id": "261eb787",
   "metadata": {},
   "outputs": [],
   "source": [
    "cadastro_usuarios_depois_2010"
   ]
  },
  {
   "cell_type": "code",
   "execution_count": null,
   "id": "05a0e73f",
   "metadata": {},
   "outputs": [],
   "source": [
    "cadastro_usuarios_excel = pd.concat([cadastro_usuarios_antes_2010,cadastro_usuarios_depois_2010], ignore_index = True)\n",
    "cadastro_usuarios_excel.matricula_ou_siape = cadastro_usuarios_excel.matricula_ou_siape.astype('string')\n",
    "cadastro_usuarios_excel"
   ]
  },
  {
   "cell_type": "markdown",
   "id": "31fab03e",
   "metadata": {},
   "source": [
    "## Arquivo JSON"
   ]
  },
  {
   "cell_type": "code",
   "execution_count": null,
   "id": "2ae3ff07",
   "metadata": {},
   "outputs": [],
   "source": [
    "cadastro_usuarios_json = pd.read_json('https://github.com/FranciscoFoz/7_Days_of_Code_Alura-Python-Pandas/raw/main/Dia_6-Novos_dados_novas_analises/Datasets/cadastro_alunos.json')"
   ]
  },
  {
   "cell_type": "code",
   "execution_count": null,
   "id": "d0b51f53",
   "metadata": {},
   "outputs": [],
   "source": [
    "cadastro_usuarios_json"
   ]
  },
  {
   "cell_type": "code",
   "execution_count": null,
   "id": "055e8b51",
   "metadata": {},
   "outputs": [],
   "source": [
    "cadastro_usuarios_pos_graduacao_json = pd.read_json(cadastro_usuarios_json.registros[1])"
   ]
  },
  {
   "cell_type": "code",
   "execution_count": null,
   "id": "39f65aad",
   "metadata": {},
   "outputs": [],
   "source": [
    "cadastro_usuarios_pos_graduacao_json"
   ]
  },
  {
   "cell_type": "markdown",
   "id": "1c54a130",
   "metadata": {},
   "source": [
    "## Modificando tipo de dado da matricula"
   ]
  },
  {
   "cell_type": "code",
   "execution_count": null,
   "id": "9d8bee08",
   "metadata": {},
   "outputs": [],
   "source": [
    "cadastro_usuarios_pos_graduacao_json.matricula_ou_siape = cadastro_usuarios_pos_graduacao_json.matricula_ou_siape.astype('float')\n",
    "cadastro_usuarios_pos_graduacao_json.matricula_ou_siape = cadastro_usuarios_pos_graduacao_json.matricula_ou_siape.astype('string')"
   ]
  },
  {
   "cell_type": "code",
   "execution_count": null,
   "id": "de0c062a",
   "metadata": {},
   "outputs": [],
   "source": [
    "cadastro_usuarios_pos_graduacao_json.info()"
   ]
  },
  {
   "cell_type": "markdown",
   "id": "d7453ac5",
   "metadata": {},
   "source": [
    "## Concatenando arquivos Excel e JSON\n"
   ]
  },
  {
   "cell_type": "code",
   "execution_count": null,
   "id": "4e0cfa9a",
   "metadata": {},
   "outputs": [],
   "source": [
    "cadastro_usuarios_cursos = pd.concat([cadastro_usuarios_excel, cadastro_usuarios_pos_graduacao_json], ignore_index = True)\n",
    "cadastro_usuarios_cursos"
   ]
  },
  {
   "cell_type": "code",
   "execution_count": null,
   "id": "8fd42006",
   "metadata": {},
   "outputs": [],
   "source": [
    "cadastro_usuarios_cursos_pos_graduacao = cadastro_usuarios_pos_graduacao_json.query(\"tipo_vinculo_usuario == 'ALUNO DE PÓS-GRADUAÇÃO'\")\n",
    "cadastro_usuarios_cursos_pos_graduacao"
   ]
  },
  {
   "cell_type": "markdown",
   "id": "e8da6fee",
   "metadata": {},
   "source": [
    "## Filtrando empréstimos desde 2017"
   ]
  },
  {
   "cell_type": "code",
   "execution_count": null,
   "id": "cc672327",
   "metadata": {},
   "outputs": [],
   "source": [
    "matricula_data_de_emprestimo_pos_graduacao = emprestimos_completo.loc[:,['matricula_ou_siape','data_emprestimo']]\n",
    "matricula_data_de_emprestimo_pos_graduacao = matricula_data_de_emprestimo_pos_graduacao.query('data_emprestimo > 2017')\n",
    "matricula_data_de_emprestimo_pos_graduacao = matricula_data_de_emprestimo_pos_graduacao.reset_index(drop = True)\n",
    "matricula_data_de_emprestimo_pos_graduacao"
   ]
  },
  {
   "cell_type": "markdown",
   "id": "81368ac0",
   "metadata": {},
   "source": [
    "## Unindo DataFrames de cadastro de usuários e de empréstimos"
   ]
  },
  {
   "cell_type": "code",
   "execution_count": null,
   "id": "8aa286b7",
   "metadata": {},
   "outputs": [],
   "source": [
    "emprestimos_pos_graduacao_desde_2017 = matricula_data_de_emprestimo_pos_graduacao.merge(cadastro_usuarios_cursos_pos_graduacao)\n",
    "emprestimos_pos_graduacao_desde_2017"
   ]
  },
  {
   "cell_type": "markdown",
   "id": "e0516c74",
   "metadata": {},
   "source": [
    "## Modificando o tipo de dada"
   ]
  },
  {
   "cell_type": "code",
   "execution_count": null,
   "id": "799407e3",
   "metadata": {},
   "outputs": [],
   "source": [
    "emprestimos_pos_graduacao_desde_2017.data_emprestimo = emprestimos_pos_graduacao_desde_2017.data_emprestimo.dt.year"
   ]
  },
  {
   "cell_type": "markdown",
   "id": "73ddd8cd",
   "metadata": {},
   "source": [
    "## Concatenando valores de empréstimos"
   ]
  },
  {
   "cell_type": "code",
   "execution_count": null,
   "id": "16e30ea2",
   "metadata": {},
   "outputs": [],
   "source": [
    "emprestimos_pos_graduacao_desde_2017 = emprestimos_pos_graduacao_desde_2017.iloc[:,[1,3]].value_counts().reset_index()\n",
    "emprestimos_pos_graduacao_desde_2017.columns = ['ANO','CURSO','QUANTIDADE_EMPRESTIMOS']\n",
    "emprestimos_pos_graduacao_desde_2017.head()"
   ]
  },
  {
   "cell_type": "markdown",
   "id": "3098f6a4",
   "metadata": {},
   "source": [
    "## Pivotando tabela"
   ]
  },
  {
   "cell_type": "code",
   "execution_count": null,
   "id": "531bbc42",
   "metadata": {},
   "outputs": [],
   "source": [
    "emprestimos_pos_graduacao_e_curso_pivot = emprestimos_pos_graduacao_desde_2017.pivot_table(\n",
    "        index = 'CURSO',\n",
    "        columns = 'ANO',\n",
    "        values = 'QUANTIDADE_EMPRESTIMOS'\n",
    ")\n",
    "emprestimos_pos_graduacao_e_curso_pivot"
   ]
  },
  {
   "cell_type": "markdown",
   "id": "b778a5aa",
   "metadata": {},
   "source": [
    "## Importando dados da previsão"
   ]
  },
  {
   "cell_type": "code",
   "execution_count": null,
   "id": "598d56b2",
   "metadata": {},
   "outputs": [],
   "source": [
    "previsao_2022 = pd.read_table('https://github.com/FranciscoFoz/7_Days_of_Code_Alura-Python-Pandas/raw/main/Dia_7-Apresentando_resultados_em_HTML/Dataset/previsao')"
   ]
  },
  {
   "cell_type": "markdown",
   "id": "612a3a14",
   "metadata": {},
   "source": [
    "## Trantando dados da previsao"
   ]
  },
  {
   "cell_type": "code",
   "execution_count": null,
   "id": "1edbccbd",
   "metadata": {},
   "outputs": [],
   "source": [
    "previsao_2022 = previsao_2022['curso previsao_2022'].str.split(' ',expand=True)\n",
    "previsao_2022"
   ]
  },
  {
   "cell_type": "markdown",
   "id": "fcf3e1e4",
   "metadata": {},
   "source": [
    "## Unindo tabelas"
   ]
  },
  {
   "cell_type": "code",
   "execution_count": null,
   "id": "9a6832c5",
   "metadata": {},
   "outputs": [],
   "source": [
    "previsao_2022.index = emprestimos_pos_graduacao_e_curso_pivot.index\n",
    "emprestimos_pos_graduacao_e_curso_pivot['2022'] = previsao_2022.iloc[:,1]\n",
    "emprestimos_pos_graduacao_e_curso_pivot"
   ]
  },
  {
   "cell_type": "markdown",
   "id": "3907d395",
   "metadata": {},
   "source": [
    "## Modificando tipo de dado"
   ]
  },
  {
   "cell_type": "code",
   "execution_count": null,
   "id": "2ade080f",
   "metadata": {},
   "outputs": [],
   "source": [
    "emprestimos_pos_graduacao_e_curso_pivot['2022'] = emprestimos_pos_graduacao_e_curso_pivot['2022'].astype('int')"
   ]
  },
  {
   "cell_type": "markdown",
   "id": "204930e4",
   "metadata": {},
   "source": [
    "## Pivotando tabela"
   ]
  },
  {
   "cell_type": "code",
   "execution_count": null,
   "id": "f5e3d2d5",
   "metadata": {},
   "outputs": [],
   "source": [
    "emprestimos_pos_graduacao_e_curso_pivot"
   ]
  },
  {
   "cell_type": "markdown",
   "id": "9e4994c4",
   "metadata": {},
   "source": [
    "## Criando função para diferença percentual"
   ]
  },
  {
   "cell_type": "code",
   "execution_count": null,
   "id": "6e78c3b4",
   "metadata": {},
   "outputs": [],
   "source": [
    "def diferenca_percentual_ano_anterior(x,y):\n",
    "    return round(((x / y * 100) - 100), 2)"
   ]
  },
  {
   "cell_type": "markdown",
   "id": "43279a56",
   "metadata": {},
   "source": [
    "## Calculando a diferença percentual"
   ]
  },
  {
   "cell_type": "code",
   "execution_count": null,
   "id": "6d1166a5",
   "metadata": {},
   "outputs": [],
   "source": [
    "percentual_2018 = diferenca_percentual_ano_anterior(emprestimos_pos_graduacao_e_curso_pivot.iloc[:,1],emprestimos_pos_graduacao_e_curso_pivot.iloc[:,0])\n",
    "percentual_2019 = diferenca_percentual_ano_anterior(emprestimos_pos_graduacao_e_curso_pivot.iloc[:,2],emprestimos_pos_graduacao_e_curso_pivot.iloc[:,1])\n",
    "percentual_2022 = diferenca_percentual_ano_anterior(emprestimos_pos_graduacao_e_curso_pivot.iloc[:,3],emprestimos_pos_graduacao_e_curso_pivot.iloc[:,2])"
   ]
  },
  {
   "cell_type": "markdown",
   "id": "c614dc6e",
   "metadata": {},
   "source": [
    "## Criando DataFrame com as diferenças percentuais"
   ]
  },
  {
   "cell_type": "code",
   "execution_count": null,
   "id": "210fe19c",
   "metadata": {},
   "outputs": [],
   "source": [
    "percentual = pd.DataFrame({'2018':percentual_2018,\n",
    "                           '2019':percentual_2019,\n",
    "                           '2022':percentual_2022})\n",
    "percentual"
   ]
  },
  {
   "cell_type": "markdown",
   "id": "c8faee61",
   "metadata": {},
   "source": [
    "## Formatando dados da tabela"
   ]
  },
  {
   "cell_type": "code",
   "execution_count": null,
   "id": "72539d71",
   "metadata": {},
   "outputs": [],
   "source": [
    "percentual.reset_index(inplace=True)\n",
    "percentual.columns = percentual.columns.str.capitalize()\n",
    "percentual.Curso = percentual.Curso.str.capitalize()"
   ]
  },
  {
   "cell_type": "code",
   "execution_count": null,
   "id": "f4a80af8",
   "metadata": {},
   "outputs": [],
   "source": [
    "percentual"
   ]
  },
  {
   "cell_type": "markdown",
   "id": "6bd36138",
   "metadata": {},
   "source": [
    "## Criando tabela HTML"
   ]
  },
  {
   "cell_type": "markdown",
   "id": "f80da254",
   "metadata": {},
   "source": [
    "### Estruturando formatação da tabela em CSS"
   ]
  },
  {
   "cell_type": "code",
   "execution_count": null,
   "id": "eb16ba0c",
   "metadata": {},
   "outputs": [],
   "source": [
    "th_props = [\n",
    "  ('font-size', '1.4rem'),\n",
    "  ('text-align', 'center'),\n",
    "  ('font-weight', 'bold'),\n",
    "  ('color', 'whitesmoke'),\n",
    "  ('background-color', '#001692'),\n",
    "  ('border-radius', '0.25rem'),\n",
    "  ('box-shadow','0 0 1rem gray')\n",
    "  ]\n",
    "\n",
    "td_props = [\n",
    "  ('font-size', '1rem'),\n",
    "  ('padding','0.5rem'),\n",
    "  ('text-align', 'left'),\n",
    "  ('font-weight', 'bold'),\n",
    "  ('border-bottom','0.1rem solid lightgray')\n",
    "  ]\n",
    "\n",
    "styles = [\n",
    "  dict(selector=\"th\", props=th_props),\n",
    "  dict(selector=\"td\", props=td_props)\n",
    "  ]"
   ]
  },
  {
   "cell_type": "markdown",
   "id": "d1bd34dd",
   "metadata": {},
   "source": [
    "## Gerando tabela em HTML"
   ]
  },
  {
   "cell_type": "code",
   "execution_count": null,
   "id": "478b0660",
   "metadata": {},
   "outputs": [],
   "source": [
    "percentual.style.text_gradient(cmap='RdYlGn',low=1, axis=1,vmax=0.1,vmin=0)\\\n",
    "                              .format('{:.2f} %',subset=['2018','2019','2022'])\\\n",
    "                              .hide_index()\\\n",
    "                              .set_table_styles(styles)\\\n",
    "                              .to_html('teste.html',doctype_html =True,\n",
    "                                       table_attributes='ALIGN=LEFT WIDTH=50% CELLSPACING = 5')"
   ]
  },
  {
   "cell_type": "code",
   "execution_count": null,
   "id": "76550591",
   "metadata": {},
   "outputs": [],
   "source": []
  }
 ],
 "metadata": {
  "kernelspec": {
   "display_name": "Python 3 (ipykernel)",
   "language": "python",
   "name": "python3"
  },
  "language_info": {
   "codemirror_mode": {
    "name": "ipython",
    "version": 3
   },
   "file_extension": ".py",
   "mimetype": "text/x-python",
   "name": "python",
   "nbconvert_exporter": "python",
   "pygments_lexer": "ipython3",
   "version": "3.11.5"
  }
 },
 "nbformat": 4,
 "nbformat_minor": 5
}
